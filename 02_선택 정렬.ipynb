{
 "cells": [
  {
   "cell_type": "markdown",
   "metadata": {},
   "source": [
    "### 예제 코드"
   ]
  },
  {
   "cell_type": "code",
   "execution_count": 19,
   "metadata": {},
   "outputs": [],
   "source": [
    "def findSmallest(arr):\n",
    "    smallest = arr[0]\n",
    "    smallest_index = 0\n",
    "    \n",
    "    for i in range(1, len(arr)):\n",
    "        if arr[i] < smallest:\n",
    "            smallest = arr[i]\n",
    "            smallest_index = i\n",
    "    return smallest_index"
   ]
  },
  {
   "cell_type": "code",
   "execution_count": 20,
   "metadata": {},
   "outputs": [],
   "source": [
    "def selectionSort(arr):\n",
    "    newArr = []\n",
    "\n",
    "    for _ in range(len(arr)):\n",
    "        smallest = findSmallest(arr)\n",
    "        newArr.append(arr.pop(smallest))\n",
    "    return newArr"
   ]
  },
  {
   "cell_type": "code",
   "execution_count": 22,
   "metadata": {},
   "outputs": [
    {
     "data": {
      "text/plain": [
       "[2, 3, 5, 6, 10]"
      ]
     },
     "execution_count": 22,
     "metadata": {},
     "output_type": "execute_result"
    }
   ],
   "source": [
    "selectionSort([5, 3, 6, 2, 10])"
   ]
  },
  {
   "cell_type": "code",
   "execution_count": 23,
   "metadata": {},
   "outputs": [
    {
     "name": "stdout",
     "output_type": "stream",
     "text": [
      "[]\n",
      "[5, 3, 6, 10]\n",
      "[2]\n",
      "[5, 6, 10]\n",
      "[2, 3]\n",
      "[6, 10]\n",
      "[2, 3, 5]\n",
      "[10]\n",
      "[2, 3, 5, 6]\n",
      "[]\n"
     ]
    },
    {
     "data": {
      "text/plain": [
       "[2, 3, 5, 6, 10]"
      ]
     },
     "execution_count": 23,
     "metadata": {},
     "output_type": "execute_result"
    }
   ],
   "source": [
    "arr2 = [5, 3, 6, 2, 10]\n",
    "newArr2 = []\n",
    "for _ in range(5):\n",
    "    print(newArr2)\n",
    "    newArr2.append(arr2.pop(findSmallest(arr2)))\n",
    "    print(arr2)\n",
    "newArr2"
   ]
  },
  {
   "cell_type": "markdown",
   "metadata": {},
   "source": [
    "### 연습문제"
   ]
  },
  {
   "cell_type": "markdown",
   "metadata": {},
   "source": [
    "##### 2-1. 가계부 앱을 개발하고 있다고 생각해 보세요. 자료를 읽는 것보다 삽입하는 일이 훨씬 많습니다. \n",
    "\n",
    "- 리스트를 사용해야 합니다."
   ]
  },
  {
   "cell_type": "markdown",
   "metadata": {},
   "source": [
    "##### 2-2. 서비스 담당 직원은 주문 목록(큐)에 계속 주문을 추가하고, 요리사는 목록에서 주문을 꺼내 조리를 합니다. \n",
    "- 리스트를 사용해야 합니다. 리스트는 삽입, 순차 접근에 좋기 때문입니다."
   ]
  },
  {
   "cell_type": "markdown",
   "metadata": {},
   "source": [
    "##### 2-3. 페이스북 사용자 이름 목록\n",
    "- 배열을 써야 합니다. 중간에 있는 값에 임의 접근할 수 있어야 하기 때문입니다."
   ]
  },
  {
   "cell_type": "markdown",
   "metadata": {},
   "source": [
    "2-4. \n",
    "- 삽입을 위한 배열에서 발생하는 단점은, 공간이 부족한 경우 모든 원소를 새로운 장소로 복사해야 한다는 점입니다. \n",
    "- 배열에 새로운 사용자를 추가하면, 차후 탐색을 용이하게 하기 위해 모든 사용자를 재정렬해야 합니다."
   ]
  },
  {
   "cell_type": "markdown",
   "metadata": {},
   "source": [
    "2-5.\n",
    "- 복합 자료구조가 배열이나 리스트보다 검색, 삽입 모두 빠릅니다."
   ]
  },
  {
   "cell_type": "code",
   "execution_count": null,
   "metadata": {},
   "outputs": [],
   "source": []
  }
 ],
 "metadata": {
  "kernelspec": {
   "display_name": "Python 3",
   "language": "python",
   "name": "python3"
  },
  "language_info": {
   "codemirror_mode": {
    "name": "ipython",
    "version": 3
   },
   "file_extension": ".py",
   "mimetype": "text/x-python",
   "name": "python",
   "nbconvert_exporter": "python",
   "pygments_lexer": "ipython3",
   "version": "3.6.5"
  }
 },
 "nbformat": 4,
 "nbformat_minor": 2
}
